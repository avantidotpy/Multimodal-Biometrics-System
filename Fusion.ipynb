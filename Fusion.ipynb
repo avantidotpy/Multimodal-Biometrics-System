{
 "cells": [
  {
   "cell_type": "markdown",
   "id": "d18452ab",
   "metadata": {},
   "source": [
    "## Fusion of both the models into one for a multimodal system.\n",
    "#### (Takes about 5-6 hours to run)"
   ]
  },
  {
   "cell_type": "code",
   "execution_count": 9,
   "id": "a5f97707",
   "metadata": {},
   "outputs": [
    {
     "name": "stdout",
     "output_type": "stream",
     "text": [
      "Epoch 1/34\n",
      " 26/345 [=>............................] - ETA: 1s - loss: 0.1538 - accuracy: 0.8462   "
     ]
    },
    {
     "name": "stderr",
     "output_type": "stream",
     "text": [
      "2022-12-13 10:35:57.691882: I tensorflow/core/grappler/optimizers/custom_graph_optimizer_registry.cc:114] Plugin optimizer for device_type GPU is enabled.\n"
     ]
    },
    {
     "name": "stdout",
     "output_type": "stream",
     "text": [
      "340/345 [============================>.] - ETA: 0s - loss: 0.2498 - accuracy: 0.6912"
     ]
    },
    {
     "name": "stderr",
     "output_type": "stream",
     "text": [
      "2022-12-13 10:35:59.233257: I tensorflow/core/grappler/optimizers/custom_graph_optimizer_registry.cc:114] Plugin optimizer for device_type GPU is enabled.\n"
     ]
    },
    {
     "name": "stdout",
     "output_type": "stream",
     "text": [
      "345/345 [==============================] - 2s 5ms/step - loss: 0.2497 - accuracy: 0.6899 - val_loss: 0.2423 - val_accuracy: 0.6437\n",
      "Epoch 2/34\n",
      "345/345 [==============================] - 2s 5ms/step - loss: 0.2348 - accuracy: 0.6957 - val_loss: 0.2367 - val_accuracy: 0.6437\n",
      "Epoch 3/34\n",
      "345/345 [==============================] - 2s 4ms/step - loss: 0.2277 - accuracy: 0.6957 - val_loss: 0.2333 - val_accuracy: 0.6437\n",
      "Epoch 4/34\n",
      "345/345 [==============================] - 2s 5ms/step - loss: 0.2229 - accuracy: 0.6957 - val_loss: 0.2313 - val_accuracy: 0.6437\n",
      "Epoch 5/34\n",
      "345/345 [==============================] - 2s 5ms/step - loss: 0.2197 - accuracy: 0.6957 - val_loss: 0.2302 - val_accuracy: 0.6437\n",
      "Epoch 6/34\n",
      "345/345 [==============================] - 2s 4ms/step - loss: 0.2174 - accuracy: 0.6957 - val_loss: 0.2296 - val_accuracy: 0.6437\n",
      "Epoch 7/34\n",
      "345/345 [==============================] - 2s 4ms/step - loss: 0.2158 - accuracy: 0.6957 - val_loss: 0.2294 - val_accuracy: 0.6437\n",
      "Epoch 8/34\n",
      "345/345 [==============================] - 2s 4ms/step - loss: 0.2146 - accuracy: 0.6957 - val_loss: 0.2294 - val_accuracy: 0.6437\n",
      "Epoch 9/34\n",
      "345/345 [==============================] - 2s 4ms/step - loss: 0.2139 - accuracy: 0.6957 - val_loss: 0.2295 - val_accuracy: 0.6437\n",
      "Epoch 10/34\n",
      "345/345 [==============================] - 2s 4ms/step - loss: 0.2133 - accuracy: 0.6957 - val_loss: 0.2296 - val_accuracy: 0.6437\n",
      "Epoch 11/34\n",
      "345/345 [==============================] - 2s 5ms/step - loss: 0.2129 - accuracy: 0.6957 - val_loss: 0.2299 - val_accuracy: 0.6437\n",
      "Epoch 12/34\n",
      "345/345 [==============================] - 2s 4ms/step - loss: 0.2126 - accuracy: 0.6957 - val_loss: 0.2301 - val_accuracy: 0.6437\n",
      "Epoch 13/34\n",
      "345/345 [==============================] - 2s 5ms/step - loss: 0.2124 - accuracy: 0.6957 - val_loss: 0.2303 - val_accuracy: 0.6437\n",
      "Epoch 14/34\n",
      "345/345 [==============================] - 2s 5ms/step - loss: 0.2122 - accuracy: 0.6957 - val_loss: 0.2305 - val_accuracy: 0.6437\n",
      "Epoch 15/34\n",
      "345/345 [==============================] - 2s 5ms/step - loss: 0.2121 - accuracy: 0.6957 - val_loss: 0.2307 - val_accuracy: 0.6437\n",
      "Epoch 16/34\n",
      "345/345 [==============================] - 2s 5ms/step - loss: 0.2120 - accuracy: 0.6957 - val_loss: 0.2309 - val_accuracy: 0.6437\n",
      "Epoch 17/34\n",
      "345/345 [==============================] - 2s 5ms/step - loss: 0.2119 - accuracy: 0.6957 - val_loss: 0.2311 - val_accuracy: 0.6437\n",
      "Epoch 18/34\n",
      "345/345 [==============================] - 2s 5ms/step - loss: 0.2119 - accuracy: 0.6957 - val_loss: 0.2311 - val_accuracy: 0.6437\n",
      "Epoch 19/34\n",
      "345/345 [==============================] - 2s 5ms/step - loss: 0.2119 - accuracy: 0.6957 - val_loss: 0.2313 - val_accuracy: 0.6437\n",
      "Epoch 20/34\n",
      "345/345 [==============================] - 2s 5ms/step - loss: 0.2119 - accuracy: 0.6957 - val_loss: 0.2314 - val_accuracy: 0.6437\n",
      "Epoch 21/34\n",
      "345/345 [==============================] - 2s 5ms/step - loss: 0.2118 - accuracy: 0.6957 - val_loss: 0.2316 - val_accuracy: 0.6437\n",
      "Epoch 22/34\n",
      "345/345 [==============================] - 2s 5ms/step - loss: 0.2118 - accuracy: 0.6957 - val_loss: 0.2316 - val_accuracy: 0.6437\n",
      "Epoch 23/34\n",
      "345/345 [==============================] - 2s 5ms/step - loss: 0.2118 - accuracy: 0.6957 - val_loss: 0.2316 - val_accuracy: 0.6437\n",
      "Epoch 24/34\n",
      "345/345 [==============================] - 2s 6ms/step - loss: 0.2118 - accuracy: 0.6957 - val_loss: 0.2317 - val_accuracy: 0.6437\n",
      "Epoch 25/34\n",
      "345/345 [==============================] - 2s 7ms/step - loss: 0.2118 - accuracy: 0.6957 - val_loss: 0.2318 - val_accuracy: 0.6437\n",
      "Epoch 26/34\n",
      "345/345 [==============================] - 2s 5ms/step - loss: 0.2118 - accuracy: 0.6957 - val_loss: 0.2318 - val_accuracy: 0.6437\n",
      "Epoch 27/34\n",
      "345/345 [==============================] - 2s 5ms/step - loss: 0.2119 - accuracy: 0.6957 - val_loss: 0.2319 - val_accuracy: 0.6437\n",
      "Epoch 28/34\n",
      "345/345 [==============================] - 2s 5ms/step - loss: 0.2119 - accuracy: 0.6957 - val_loss: 0.2319 - val_accuracy: 0.6437\n",
      "Epoch 29/34\n",
      "345/345 [==============================] - 2s 5ms/step - loss: 0.2118 - accuracy: 0.6957 - val_loss: 0.2319 - val_accuracy: 0.6437\n",
      "Epoch 30/34\n",
      "345/345 [==============================] - 2s 5ms/step - loss: 0.2118 - accuracy: 0.6957 - val_loss: 0.2319 - val_accuracy: 0.6437\n",
      "Epoch 31/34\n",
      "345/345 [==============================] - 2s 5ms/step - loss: 0.2118 - accuracy: 0.6957 - val_loss: 0.2320 - val_accuracy: 0.6437\n",
      "Epoch 32/34\n",
      "345/345 [==============================] - 2s 5ms/step - loss: 0.2118 - accuracy: 0.6957 - val_loss: 0.2319 - val_accuracy: 0.6437\n",
      "Epoch 33/34\n",
      "345/345 [==============================] - 2s 5ms/step - loss: 0.2118 - accuracy: 0.6957 - val_loss: 0.2320 - val_accuracy: 0.6437\n",
      "Epoch 34/34\n",
      "345/345 [==============================] - 2s 5ms/step - loss: 0.2118 - accuracy: 0.6957 - val_loss: 0.2320 - val_accuracy: 0.6437\n"
     ]
    }
   ],
   "source": [
    "import numpy as np\n",
    "import tensorflow as tf\n",
    "from tensorflow import keras\n",
    "from glob import glob\n",
    "from keras import layers\n",
    "from tensorflow.keras.layers import Input, Dense, concatenate\n",
    "from tensorflow.keras.models import Model\n",
    "from sklearn.model_selection import train_test_split\n",
    "import matplotlib.pyplot as plt\n",
    "\n",
    "imgs=[]\n",
    "x=[]\n",
    "y=[]\n",
    "for filefilepath in glob.iglob('/multimodal/*'):\n",
    "\n",
    "    if filefilepath[-1] == 'g':\n",
    "\n",
    "        img = cv2.imread(filefilepath)\n",
    "        imgs_colored=cv2.imread(filefilepath)\n",
    "        split = filefilepath.split(\".\")\n",
    "        label=split[0][12:]\n",
    "        example_number = split[1]\n",
    "        imgs.append([imgs_colored,int(label)])\n",
    "\n",
    "import random\n",
    "random.shuffle(imgs)\n",
    "\n",
    "for i,j in imgs:\n",
    "        x.append(i)\n",
    "        y.append(j)\n",
    "\n",
    "y = keras.utils.np_utils.to_categorical(y)\n",
    "x = np.asarray(x)\n",
    "\n",
    "X_train, X_test, y_train, y_test = train_test_split(x, y, test_size=test_set_percent,random_state=42, shuffle=True)\n",
    "\n",
    "X_train = (X_train / 255.).astype(np.float16)\n",
    "X_test = (X_test / 255.).astype(np.float16)\n",
    "\n",
    "X_train, X_val, y_train, y_val = train_test_split(X_train, y_train, test_size=0.2, random_state=1)\n",
    "\n",
    "with open('/content/model_history_densenet121.pkl', 'rb') as handle:\n",
    "        history_fingervein = pickle.load(handle)\n",
    "\n",
    "with open('/content/model_history_densenet201.pkl', 'rb') as handle:\n",
    "        history_iris = pickle.load(handle)\n",
    "\n",
    "\n",
    "middle_layer = keras.Sequential([\n",
    "    keras.layers.Flatten(input_shape=(4,)),\n",
    "    keras.layers.Dense(4, activation=tf.nn.relu),\n",
    "    keras.layers.Dense(4, activation=tf.nn.relu),\n",
    "    keras.layers.Dense(1, activation=tf.nn.sigmoid),\n",
    "])\n",
    "\n",
    "middle_layer = concatenate([history_fingervein.output,history_iris.output],name=\"middle_layer\")\n",
    "\n",
    "output_layer = Dense(16, activation = \"sigmoid\", name = \"output_layer\")(middle_layer)\n",
    "\n",
    "merged_model = Model(inputs=[(history_fingervein, history_iris)],outputs=[output_layer], name = \"merged model\")\n",
    "        \n",
    "merged_model.compile(optimizer='adam',\n",
    "              loss='mse',\n",
    "              metrics=['accuracy'])\n",
    "\n",
    "history = merged_model.fit(X_train, y_train, epochs=50, batch_size=1, validation_data=(X_val, y_val))"
   ]
  },
  {
   "cell_type": "code",
   "execution_count": 10,
   "id": "49ddd447",
   "metadata": {
    "scrolled": true
   },
   "outputs": [
    {
     "data": {
      "image/png": "[encoded data removed]",
      "text/plain": [
       "<Figure size 800x500 with 1 Axes>"
      ]
     },
     "metadata": {},
     "output_type": "display_data"
    }
   ],
   "source": [
    "(history.history).plot(figsize=(8,5))\n",
    "plt.show()"
   ]
  },
  {
   "cell_type": "markdown",
   "id": "53171893",
   "metadata": {},
   "source": [
    "## The combined accuracy of the model is 70% which is good for a multimodal system.\n",
    "#### For futher improvements we can also consider increasing the weight of the fingervein model while merging both the models into one for futher good accuracy."
   ]
  },
  {
   "cell_type": "code",
   "execution_count": null,
   "id": "bb83838d",
   "metadata": {},
   "outputs": [],
   "source": []
  }
 ],
 "metadata": {
  "kernelspec": {
   "display_name": "Python 3 (ipykernel)",
   "language": "python",
   "name": "python3"
  },
  "language_info": {
   "codemirror_mode": {
    "name": "ipython",
    "version": 3
   },
   "file_extension": ".py",
   "mimetype": "text/x-python",
   "name": "python",
   "nbconvert_exporter": "python",
   "pygments_lexer": "ipython3",
   "version": "3.8.15"
  }
 },
 "nbformat": 4,
 "nbformat_minor": 5
}
